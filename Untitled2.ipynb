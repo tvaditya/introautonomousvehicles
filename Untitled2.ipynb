{
 "cells": [
  {
   "cell_type": "markdown",
   "metadata": {},
   "source": [
    "# This weill not work yet \n",
    "Just a copy paste of the functions developed previously"
   ]
  },
  {
   "cell_type": "code",
   "execution_count": 1,
   "metadata": {},
   "outputs": [],
   "source": [
    "import cv2\n",
    "import numpy as np"
   ]
  },
  {
   "cell_type": "code",
   "execution_count": 4,
   "metadata": {},
   "outputs": [],
   "source": [
    "#Creating a class\n",
    "class FindLanes():\n",
    "    \n",
    "    def __init__(self, image):\n",
    "        self.image = image\n",
    "        \n",
    "    def make_points(self):\n",
    "        slope, intercept = line\n",
    "        y1 = int(image.shape[0])# bottom of the image\n",
    "        y2 = int(y1*3/5)         # slightly lower than the middle\n",
    "        x1 = int((y1 - intercept)/slope)\n",
    "        x2 = int((y2 - intercept)/slope)\n",
    "        return [[x1, y1, x2, y2]]\n",
    "\n",
    "    def average_slope_intercept(self):\n",
    "        left_fit    = []\n",
    "        right_fit   = []\n",
    "        if lines is None:\n",
    "            return None\n",
    "        for line in lines:\n",
    "            for x1, y1, x2, y2 in line:\n",
    "                fit = np.polyfit((x1,x2), (y1,y2), 1)\n",
    "                slope = fit[0]\n",
    "                intercept = fit[1]\n",
    "                if slope < 0: # y is reversed in image\n",
    "                    left_fit.append((slope, intercept))\n",
    "                else:\n",
    "                    right_fit.append((slope, intercept))\n",
    "        # add more weight to longer lines\n",
    "        left_fit_average  = np.average(left_fit, axis=0)\n",
    "        right_fit_average = np.average(right_fit, axis=0)\n",
    "        left_line  = make_points(image, left_fit_average)\n",
    "        right_line = make_points(image, right_fit_average)\n",
    "        averaged_lines = [left_line, right_line]\n",
    "        return averaged_lines\n",
    "\n",
    "    def canny(self):\n",
    "        gray = cv2.cvtColor(img, cv2.COLOR_RGB2GRAY)\n",
    "        kernel = 5\n",
    "        blur = cv2.GaussianBlur(gray,(kernel, kernel),0)\n",
    "        canny = cv2.Canny(gray, 50, 150)\n",
    "        return canny\n",
    "\n",
    "    def display_lines(self):\n",
    "        line_image = np.zeros_like(img)\n",
    "        if lines is not None:\n",
    "            for line in lines:\n",
    "                for x1, y1, x2, y2 in line:\n",
    "                    cv2.line(line_image,(x1,y1),(x2,y2),(255,0,0),10)\n",
    "        return line_image\n",
    "\n",
    "    def region_of_interest(self):\n",
    "        height = canny.shape[0]\n",
    "        width = canny.shape[1]\n",
    "        mask = np.zeros_like(canny)\n",
    "\n",
    "        triangle = np.array([[\n",
    "        (200, height),\n",
    "        (550, 250),\n",
    "        (1100, height),]], np.int32)\n",
    "\n",
    "        cv2.fillPoly(mask, triangle, 255)\n",
    "        masked_image = cv2.bitwise_and(canny, mask)\n",
    "        return masked_image"
   ]
  },
  {
   "cell_type": "code",
   "execution_count": null,
   "metadata": {},
   "outputs": [],
   "source": []
  }
 ],
 "metadata": {
  "kernelspec": {
   "display_name": "Python 3",
   "language": "python",
   "name": "python3"
  },
  "language_info": {
   "codemirror_mode": {
    "name": "ipython",
    "version": 3
   },
   "file_extension": ".py",
   "mimetype": "text/x-python",
   "name": "python",
   "nbconvert_exporter": "python",
   "pygments_lexer": "ipython3",
   "version": "3.6.2"
  }
 },
 "nbformat": 4,
 "nbformat_minor": 2
}
